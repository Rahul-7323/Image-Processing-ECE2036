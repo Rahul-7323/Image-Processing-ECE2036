{
 "cells": [
  {
   "cell_type": "code",
   "execution_count": 1,
   "metadata": {},
   "outputs": [],
   "source": [
    "import numpy as np\n",
    "from PIL import Image\n",
    "import matplotlib.pyplot as plt\n",
    "\n",
    "def round(n):\n",
    "    return np.round(n).astype(np.uint8)"
   ]
  },
  {
   "cell_type": "markdown",
   "metadata": {},
   "source": [
    "##### 1. Take your picture, convert into a grey scale image and perform the following point operations (choose appropriate constants):\n",
    "\n",
    "<ol type=\"a\">\n",
    "    <li>Image Negation</li>\n",
    "    <li>Log transformation</li>\n",
    "    <li>Gamma transformation</li>\n",
    "</ol>"
   ]
  },
  {
   "cell_type": "code",
   "execution_count": 2,
   "metadata": {},
   "outputs": [],
   "source": [
    "def invert(image):\n",
    "    inverted_image = np.copy(image)\n",
    "    inverted_image = 255 - inverted_image[:,:]\n",
    "    return inverted_image\n",
    "\n",
    "def log_transformation(image, c = 20):\n",
    "    transformed_image = np.copy(image)\n",
    "    (row,col) = transformed_image.shape\n",
    "    for i in range(row):\n",
    "        for j in range(col):\n",
    "            transformed_image[i,j] = np.round(c*np.log10(1+transformed_image[i,j]))\n",
    "    return transformed_image\n",
    "\n",
    "def gamma_correction(image, c = 20, gamma = 0.2):\n",
    "    transformed_image = np.copy(image)\n",
    "    (row,col) = transformed_image.shape\n",
    "    for i in range(row):\n",
    "        for j in range(col):\n",
    "            transformed_image[i,j] = np.round(c*(transformed_image[i,j])**gamma)\n",
    "    return transformed_image\n",
    "\n",
    "image = np.array(Image.open(\"./images/src/rahul.jpg\").convert('L'))\n",
    "\n",
    "# trans_image = invert(image)\n",
    "# trans_image = log_transformation(image, c = 50)\n",
    "trans_image = gamma_correction(image,c = 10, gamma = 0.5)\n",
    "\n",
    "\n",
    "pil_img = Image.fromarray(trans_image)\n",
    "pil_img.save(\"./images/temp/rahul_pil_save.jpg\")"
   ]
  },
  {
   "cell_type": "markdown",
   "metadata": {},
   "source": [
    "##### 2. Consider an image of your choice and perform histogram equalization and histogram matching. Choose a gray scale image or colour image"
   ]
  },
  {
   "cell_type": "code",
   "execution_count": 3,
   "metadata": {},
   "outputs": [],
   "source": [
    "def histogram_equalization(im):\n",
    "    f = {i:0 for i in range(256)}\n",
    "    new_f = f.copy()\n",
    "    pmf = f.copy()\n",
    "    cdf = f.copy()\n",
    "    (m,n) = im.shape\n",
    "    N = m*n\n",
    "    prev = 0\n",
    "    \n",
    "    # Calculate the frequency of each shade\n",
    "    for i in range(m):\n",
    "        for j in range(n):\n",
    "            f[im[i,j]] += 1\n",
    "    \n",
    "    # Calculate the pmf\n",
    "    for k in f:\n",
    "        pmf[k] = f[k]/N\n",
    "        \n",
    "    # Calculate the cdf\n",
    "    for k in pmf:\n",
    "        cdf[k] = prev+pmf[k]\n",
    "        prev = cdf[k]\n",
    "    \n",
    "    new_im = im.copy()\n",
    "    \n",
    "    # Do the equalization\n",
    "    for i in range(m):\n",
    "        for j in range(n):\n",
    "            new_im[i,j] = round(255*cdf[im[i,j]])\n",
    "            new_f[new_im[i,j]] += 1\n",
    "    # res_im = np.concatenate((im,new_im),axis=1)\n",
    "    res_im = new_im\n",
    "    return res_im"
   ]
  },
  {
   "cell_type": "code",
   "execution_count": 4,
   "metadata": {},
   "outputs": [],
   "source": [
    "image = np.array(Image.open(\"./images/src/dude.png\").convert(\"L\"))\n",
    "\n",
    "trans_image = histogram_equalization(image)\n",
    "\n",
    "pil_img = Image.fromarray(trans_image)\n",
    "pil_img.save(\"./images/temp/dude_pil_save.png\")"
   ]
  },
  {
   "cell_type": "code",
   "execution_count": 16,
   "metadata": {},
   "outputs": [
    {
     "name": "stderr",
     "output_type": "stream",
     "text": [
      "C:\\Users\\Asus\\AppData\\Local\\Temp/ipykernel_18352/3372613171.py:8: FutureWarning: `multichannel` is a deprecated argument name for `match_histograms`. It will be removed in version 1.0. Please use `channel_axis` instead.\n",
      "  matched = exposure.match_histograms(source, reference, multichannel=True)\n"
     ]
    },
    {
     "data": {
      "text/plain": [
       "-1"
      ]
     },
     "execution_count": 16,
     "metadata": {},
     "output_type": "execute_result"
    }
   ],
   "source": [
    "from skimage import exposure\n",
    "import skimage.exposure as exposure\n",
    "import cv2\n",
    "\n",
    "source = cv2.imread(\"./images/src/new_york_morning.jpg\")\n",
    "reference = cv2.imread(\"./images/src/new_york_night.jpeg\")\n",
    "\n",
    "matched = exposure.match_histograms(source, reference, multichannel=True)\n",
    "\n",
    "cv2.imshow(\"Source\", source)\n",
    "cv2.imshow(\"Reference\",reference)\n",
    "cv2.imshow(\"Matched\",matched)\n",
    "cv2.waitKey(0)"
   ]
  }
 ],
 "metadata": {
  "interpreter": {
   "hash": "46971d6258fae1e211635d8bf7f60d4d01846c4e42537e37b5cbd719f8de335b"
  },
  "kernelspec": {
   "display_name": "Python 3.8.6 64-bit",
   "language": "python",
   "name": "python3"
  },
  "language_info": {
   "codemirror_mode": {
    "name": "ipython",
    "version": 3
   },
   "file_extension": ".py",
   "mimetype": "text/x-python",
   "name": "python",
   "nbconvert_exporter": "python",
   "pygments_lexer": "ipython3",
   "version": "3.8.6"
  },
  "orig_nbformat": 4
 },
 "nbformat": 4,
 "nbformat_minor": 2
}
